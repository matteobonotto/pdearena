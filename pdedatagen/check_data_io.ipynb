{
 "cells": [
  {
   "cell_type": "code",
   "execution_count": 6,
   "metadata": {},
   "outputs": [],
   "source": [
    "import os\n",
    "import sys\n",
    "sys.path.append(os.getcwd()+'/../')\n",
    "\n",
    "from pdearena import utils\n",
    "import torch\n",
    "from pdearena.data.datamodule import PDEDataModule\n",
    "from pdearena.lr_scheduler import LinearWarmupCosineAnnealingLR  # noqa: F401\n",
    "from pdearena.models.pdemodel import PDEModel\n"
   ]
  },
  {
   "cell_type": "code",
   "execution_count": null,
   "metadata": {},
   "outputs": [],
   "source": []
  },
  {
   "cell_type": "code",
   "execution_count": null,
   "metadata": {},
   "outputs": [],
   "source": [
    "cli = utils.PDECLI(\n",
    "    PDEModel,\n",
    "    datamodule_class=PDEDataModule,\n",
    "    seed_everything_default=42,\n",
    "    save_config_overwrite=True,\n",
    "    run=False,\n",
    "    parser_kwargs={\"parser_mode\": \"omegaconf\"},\n",
    ")"
   ]
  }
 ],
 "metadata": {
  "kernelspec": {
   "display_name": "pdearena",
   "language": "python",
   "name": "python3"
  },
  "language_info": {
   "codemirror_mode": {
    "name": "ipython",
    "version": 3
   },
   "file_extension": ".py",
   "mimetype": "text/x-python",
   "name": "python",
   "nbconvert_exporter": "python",
   "pygments_lexer": "ipython3",
   "version": "3.8.13"
  }
 },
 "nbformat": 4,
 "nbformat_minor": 2
}
