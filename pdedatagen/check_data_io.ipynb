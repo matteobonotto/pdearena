{
 "cells": [
  {
   "cell_type": "code",
   "execution_count": 2,
   "metadata": {},
   "outputs": [],
   "source": [
    "import os\n",
    "import sys\n",
    "sys.path.append(os.getcwd()+'/../')\n",
    "\n",
    "from pdearena import utils\n",
    "import torch\n",
    "from pdearena.data.datamodule import PDEDataModule\n",
    "from pdearena.lr_scheduler import LinearWarmupCosineAnnealingLR  # noqa: F401\n",
    "from pdearena.models.pdemodel import PDEModel\n"
   ]
  },
  {
   "cell_type": "code",
   "execution_count": 5,
   "metadata": {},
   "outputs": [
    {
     "ename": "ImportError",
     "evalue": "attempted relative import with no known parent package",
     "output_type": "error",
     "traceback": [
      "\u001b[0;31m---------------------------------------------------------------------------\u001b[0m",
      "\u001b[0;31mImportError\u001b[0m                               Traceback (most recent call last)",
      "\u001b[1;32m/mnt/c/Users/eid0112947/OneDrive - Eni/Documenti/RESEARCH/pdearena/pdedatagen/check_data_io.ipynb Cell 2\u001b[0m line \u001b[0;36m1\n\u001b[0;32m----> <a href='vscode-notebook-cell://wsl%2Bubuntu/mnt/c/Users/eid0112947/OneDrive%20-%20Eni/Documenti/RESEARCH/pdearena/pdedatagen/check_data_io.ipynb#W1sdnNjb2RlLXJlbW90ZQ%3D%3D?line=0'>1</a>\u001b[0m \u001b[39mfrom\u001b[39;00m \u001b[39m.\u001b[39;00m\u001b[39mhelper_functions\u001b[39;00m\u001b[39m.\u001b[39;00m\u001b[39mhelper_functions\u001b[39;00m\u001b[39m.\u001b[39;00m\u001b[39mdata\u001b[39;00m \u001b[39mimport\u001b[39;00m read_h5_numpy, write_h5\n",
      "\u001b[0;31mImportError\u001b[0m: attempted relative import with no known parent package"
     ]
    }
   ],
   "source": [
    "from helper_functions.helper_functions.data import read_h5_numpy, write_h5"
   ]
  },
  {
   "cell_type": "code",
   "execution_count": null,
   "metadata": {},
   "outputs": [],
   "source": [
    "cli = utils.PDECLI(\n",
    "    PDEModel,\n",
    "    datamodule_class=PDEDataModule,\n",
    "    seed_everything_default=42,\n",
    "    save_config_overwrite=True,\n",
    "    run=False,\n",
    "    parser_kwargs={\"parser_mode\": \"omegaconf\"},\n",
    ")"
   ]
  }
 ],
 "metadata": {
  "kernelspec": {
   "display_name": "pdearena",
   "language": "python",
   "name": "python3"
  },
  "language_info": {
   "codemirror_mode": {
    "name": "ipython",
    "version": 3
   },
   "file_extension": ".py",
   "mimetype": "text/x-python",
   "name": "python",
   "nbconvert_exporter": "python",
   "pygments_lexer": "ipython3",
   "version": "3.8.13"
  }
 },
 "nbformat": 4,
 "nbformat_minor": 2
}
