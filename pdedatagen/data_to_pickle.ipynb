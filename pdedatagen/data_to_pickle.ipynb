{
 "cells": [
  {
   "cell_type": "code",
   "execution_count": 1,
   "metadata": {},
   "outputs": [],
   "source": [
    "import os\n",
    "import sys\n",
    "sys.path.append(os.getcwd()+'/..')\n",
    "\n",
    "from pdearena import utils\n",
    "import torch\n",
    "from pdearena.data.datamodule import PDEDataModule\n",
    "from pdearena.lr_scheduler import LinearWarmupCosineAnnealingLR  # noqa: F401\n",
    "from pdearena.models.pdemodel import PDEModel\n",
    "\n",
    "from helper_functions.data import write_h5, read_h5_numpy\n",
    "from helper_functions.general import touch_dir\n",
    "from time import time\n",
    "import numpy as np\n",
    "import h5py\n",
    "from tqdm import tqdm\n",
    "import shutil\n",
    "import _pickle as cPickle\n",
    "import pickle \n",
    "import hdf5plugin\n"
   ]
  },
  {
   "cell_type": "code",
   "execution_count": 2,
   "metadata": {},
   "outputs": [
    {
     "data": {
      "text/plain": [
       "['/mnt/c/Users/eid0112947/OneDrive - Eni/Documenti/RESEARCH/pdearena/pdedatagen',\n",
       " '/home/bonotto/workspace/miniconda3/envs/pdearena/lib/python38.zip',\n",
       " '/home/bonotto/workspace/miniconda3/envs/pdearena/lib/python3.8',\n",
       " '/home/bonotto/workspace/miniconda3/envs/pdearena/lib/python3.8/lib-dynload',\n",
       " '',\n",
       " '/home/bonotto/workspace/miniconda3/envs/pdearena/lib/python3.8/site-packages',\n",
       " '/mnt/c/Users/eid0112947/OneDrive - Eni/ENI/Projects/Prove/sci_ML/pdearena',\n",
       " '/mnt/c/Users/eid0112947/OneDrive - Eni/ENI/Projects/Prove/helper_functions',\n",
       " '/mnt/c/Users/eid0112947/OneDrive - Eni/Documenti/RESEARCH/pdearena/pdedatagen/..',\n",
       " '/tmp/tmpr1i2au5j']"
      ]
     },
     "execution_count": 2,
     "metadata": {},
     "output_type": "execute_result"
    }
   ],
   "source": [
    "import sys\n",
    "sys.path\n"
   ]
  },
  {
   "cell_type": "code",
   "execution_count": 3,
   "metadata": {},
   "outputs": [],
   "source": [
    "def hdf5_to_dict(file):\n",
    "    d = dict()\n",
    "    for key,val in file.items():\n",
    "        if type(val) == h5py._hl.dataset.Dataset:\n",
    "            d[key] = np.array(val)\n",
    "        else:\n",
    "            d[key] = hdf5_to_dict(val)\n",
    "    return d"
   ]
  },
  {
   "cell_type": "code",
   "execution_count": 4,
   "metadata": {},
   "outputs": [
    {
     "name": "stderr",
     "output_type": "stream",
     "text": [
      "100%|██████████| 312/312 [00:48<00:00,  6.46it/s]\n"
     ]
    }
   ],
   "source": [
    "### Chosen the following saving strategies\n",
    "'''\n",
    "- hdf5plugin.Blosc(cname='lz4', clevel = 1)\n",
    "- pickle\n",
    "'''\n",
    "compressor = hdf5plugin.Blosc(cname='lz4', clevel = 1)\n",
    "\n",
    "input_folder = '../pdearena_data/NavierStokes-2D-32x32/'\n",
    "target_folders = [\n",
    "    '../pdearena_data/NavierStokes-2D-32x32_pkl/',\n",
    "]\n",
    "files = os.listdir(input_folder)\n",
    "\n",
    "\n",
    "def convert_file(filein,fileout):\n",
    "    with h5py.File(filein, 'r') as hf_source:\n",
    "        d = hdf5_to_dict(hf_source)\n",
    "        if 'pkl' in fileout:\n",
    "            with open(fileout,\"wb\") as filehandler:\n",
    "                cPickle.dump(d,filehandler,protocol=pickle.HIGHEST_PROTOCOL)\n",
    "            # pass\n",
    "        else:\n",
    "            with h5py.File(fileout, \"w\") as h5f_target:\n",
    "                mode = next(iter(d.keys()))\n",
    "                dataset = h5f_target.create_group(mode)\n",
    "                for k,v in d[mode].items():\n",
    "                    # print('processing {}'.format(k))\n",
    "                    dataset.create_dataset(\n",
    "                        k, \n",
    "                        data = v,\n",
    "                        shape = v.shape,\n",
    "                        **compressor\n",
    "                    )\n",
    "\n",
    "\n",
    "\n",
    "for target_folder in target_folders:\n",
    "    touch_dir(target_folder)\n",
    "    \n",
    "    for file in tqdm(files,total=len(files)):\n",
    "        try:\n",
    "            if 'yaml' not in file:\n",
    "                fileout = file\n",
    "                if 'pkl' in target_folder:\n",
    "                    fileout = fileout[:-3] + '.pkl'\n",
    "                convert_file(\n",
    "                    os.path.join(input_folder,file),\n",
    "                    os.path.join(target_folder,fileout)\n",
    "                )\n",
    "            else:\n",
    "                fileout = file\n",
    "                shutil.copyfile(\n",
    "                    os.path.join(input_folder,file),\n",
    "                    os.path.join(target_folder,fileout)\n",
    "                )\n",
    "        except:\n",
    "            print(file,fileout)\n",
    "        \n",
    "\n"
   ]
  }
 ],
 "metadata": {
  "kernelspec": {
   "display_name": "pdearena",
   "language": "python",
   "name": "python3"
  },
  "language_info": {
   "codemirror_mode": {
    "name": "ipython",
    "version": 3
   },
   "file_extension": ".py",
   "mimetype": "text/x-python",
   "name": "python",
   "nbconvert_exporter": "python",
   "pygments_lexer": "ipython3",
   "version": "3.8.13"
  }
 },
 "nbformat": 4,
 "nbformat_minor": 2
}
