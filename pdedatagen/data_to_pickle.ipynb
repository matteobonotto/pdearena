{
 "cells": [
  {
   "cell_type": "code",
   "execution_count": 5,
   "metadata": {},
   "outputs": [],
   "source": [
    "import os\n",
    "import sys\n",
    "sys.path.append(os.getcwd()+'/..')\n",
    "\n",
    "# from pdearena import utils\n",
    "# import torch\n",
    "# from pdearena.data.datamodule import PDEDataModule\n",
    "# from pdearena.lr_scheduler import LinearWarmupCosineAnnealingLR  # noqa: F401\n",
    "# from pdearena.models.pdemodel import PDEModel\n",
    "\n",
    "from helper_functions.helper_functions.data import write_h5, read_h5_numpy\n",
    "from helper_functions.helper_functions.general import touch_dir\n",
    "from time import time\n",
    "import numpy as np\n",
    "import h5py\n",
    "from tqdm import tqdm\n",
    "import shutil\n",
    "import _pickle as cPickle\n",
    "import pickle \n",
    "import hdf5plugin\n"
   ]
  },
  {
   "cell_type": "code",
   "execution_count": 6,
   "metadata": {},
   "outputs": [
    {
     "data": {
      "text/plain": [
       "['/Users/matte/Documents/RESEARCH/FORKED/sci_ML/pdearena/pdedatagen',\n",
       " '/Users/matte/miniforge3/envs/pdearena-dev/lib/python39.zip',\n",
       " '/Users/matte/miniforge3/envs/pdearena-dev/lib/python3.9',\n",
       " '/Users/matte/miniforge3/envs/pdearena-dev/lib/python3.9/lib-dynload',\n",
       " '',\n",
       " '/Users/matte/miniforge3/envs/pdearena-dev/lib/python3.9/site-packages',\n",
       " '/Users/matte/Documents/RESEARCH/FORKED/sci_ML/pdearena/pdedatagen/..',\n",
       " '/Users/matte/Documents/RESEARCH/FORKED/sci_ML/pdearena/pdedatagen/..',\n",
       " '/Users/matte/Documents/RESEARCH/FORKED/sci_ML/pdearena/pdedatagen/..',\n",
       " '/Users/matte/Documents/RESEARCH/FORKED/sci_ML/pdearena/pdedatagen/..',\n",
       " '/Users/matte/Documents/RESEARCH/FORKED/sci_ML/pdearena/pdedatagen/..']"
      ]
     },
     "execution_count": 6,
     "metadata": {},
     "output_type": "execute_result"
    }
   ],
   "source": [
    "import sys\n",
    "sys.path\n"
   ]
  },
  {
   "cell_type": "code",
   "execution_count": 7,
   "metadata": {},
   "outputs": [],
   "source": [
    "def hdf5_to_dict(file):\n",
    "    d = dict()\n",
    "    for key,val in file.items():\n",
    "        if type(val) == h5py._hl.dataset.Dataset:\n",
    "            d[key] = np.array(val)\n",
    "        else:\n",
    "            d[key] = hdf5_to_dict(val)\n",
    "    return d"
   ]
  },
  {
   "cell_type": "code",
   "execution_count": 5,
   "metadata": {},
   "outputs": [
    {
     "name": "stderr",
     "output_type": "stream",
     "text": [
      "100%|██████████| 310/310 [00:06<00:00, 45.11it/s]\n"
     ]
    }
   ],
   "source": [
    "### Chosen the following saving strategies\n",
    "'''\n",
    "- hdf5plugin.Blosc(cname='lz4', clevel = 1)\n",
    "- pickle\n",
    "'''\n",
    "compressor = hdf5plugin.Blosc(cname='lz4', clevel = 1)\n",
    "\n",
    "input_folder = '../pdearena_data/NavierStokes-2D-64x64/'\n",
    "target_folders = [\n",
    "    '../pdearena_data/NavierStokes-2D-64x64_pkl/',\n",
    "]\n",
    "files = os.listdir(input_folder)\n",
    "\n",
    "\n",
    "def convert_file(filein,fileout):\n",
    "    with h5py.File(filein, 'r') as hf_source:\n",
    "        d = hdf5_to_dict(hf_source)\n",
    "        if 'pkl' in fileout:\n",
    "            with open(fileout,\"wb\") as filehandler:\n",
    "                cPickle.dump(d,filehandler,protocol=pickle.HIGHEST_PROTOCOL)\n",
    "            # pass\n",
    "        else:\n",
    "            pass\n",
    "            # with h5py.File(fileout, \"w\") as h5f_target:\n",
    "            #     mode = next(iter(d.keys()))\n",
    "            #     dataset = h5f_target.create_group(mode)\n",
    "            #     for k,v in d[mode].items():\n",
    "            #         # print('processing {}'.format(k))\n",
    "            #         dataset.create_dataset(\n",
    "            #             k, \n",
    "            #             data = v,\n",
    "            #             shape = v.shape,\n",
    "            #             **compressor\n",
    "            #         )\n",
    "\n",
    "\n",
    "for target_folder in target_folders:\n",
    "    touch_dir(target_folder)\n",
    "    \n",
    "    for file in tqdm(files,total=len(files)):\n",
    "        try:\n",
    "            if 'yaml' not in file:\n",
    "                fileout = file\n",
    "                if 'pkl' in target_folder:\n",
    "                    fileout = fileout[:-3] + '.pkl'\n",
    "                convert_file(\n",
    "                    os.path.join(input_folder,file),\n",
    "                    os.path.join(target_folder,fileout)\n",
    "                )\n",
    "            else:\n",
    "                fileout = file\n",
    "                shutil.copyfile(\n",
    "                    os.path.join(input_folder,file),\n",
    "                    os.path.join(target_folder,fileout)\n",
    "                )\n",
    "        except:\n",
    "            print(file,fileout)\n",
    "        \n",
    "\n"
   ]
  },
  {
   "cell_type": "code",
   "execution_count": 8,
   "metadata": {},
   "outputs": [],
   "source": [
    "def load_pickle(filename):\n",
    "    with open(filename,'rb') as filehandler:\n",
    "        return cPickle.load(filehandler)\n",
    "\n",
    "def save_pickle(data, filename):\n",
    "    with open(filename,\"wb\") as filehandler:\n",
    "        cPickle.dump(data,filehandler,protocol=pickle.HIGHEST_PROTOCOL)"
   ]
  },
  {
   "cell_type": "code",
   "execution_count": 9,
   "metadata": {},
   "outputs": [
    {
     "name": "stderr",
     "output_type": "stream",
     "text": [
      "100%|██████████| 312/312 [00:09<00:00, 34.10it/s]\n"
     ]
    }
   ],
   "source": [
    "### Save 1 training sample per pickle\n",
    "\n",
    "compressor = hdf5plugin.Blosc(cname='lz4', clevel = 1)\n",
    "\n",
    "# input_folder = '../pdearena_data/NavierStokes-2D-32x32_pkl/'\n",
    "# target_folders = [\n",
    "#     '../pdearena_data/NavierStokes-2D-32x32_pkl_single/',\n",
    "# ]\n",
    "\n",
    "input_folder = '../pdearena_data/NavierStokes-2D-64x64_pkl/'\n",
    "target_folders = [\n",
    "    '../pdearena_data/NavierStokes-2D-64x64_pkl_single/',\n",
    "]\n",
    "files = os.listdir(input_folder)\n",
    "\n",
    "here = os.getcwd()\n",
    "\n",
    "\n",
    "# def convert_file(filein,fileout):\n",
    "#     with h5py.File(filein, 'r') as hf_source:\n",
    "#         d = hdf5_to_dict(hf_source)\n",
    "#         if 'pkl' in fileout:\n",
    "#             with open(fileout,\"wb\") as filehandler:\n",
    "#                 cPickle.dump(d,filehandler,protocol=pickle.HIGHEST_PROTOCOL)\n",
    "#             # pass\n",
    "#         else:\n",
    "#             pass\n",
    "#             # with h5py.File(fileout, \"w\") as h5f_target:\n",
    "#             #     mode = next(iter(d.keys()))\n",
    "#             #     dataset = h5f_target.create_group(mode)\n",
    "#             #     for k,v in d[mode].items():\n",
    "#             #         # print('processing {}'.format(k))\n",
    "#             #         dataset.create_dataset(\n",
    "#             #             k, \n",
    "#             #             data = v,\n",
    "#             #             shape = v.shape,\n",
    "#             #             **compressor\n",
    "#             #         )\n",
    "\n",
    "\n",
    "for target_folder in target_folders:\n",
    "    touch_dir(target_folder)\n",
    "    \n",
    "    for file in tqdm(files,total=len(files)):\n",
    "        try:\n",
    "            if 'yaml' not in file:\n",
    "\n",
    "                d = load_pickle(\n",
    "                    os.path.join(input_folder,file)\n",
    "                )\n",
    "\n",
    "                mode = next(iter(d.keys()))\n",
    "\n",
    "                for i in range(d[mode]['u'].shape[0]):\n",
    "                    d_i = {}\n",
    "                    d_i[mode] = {}\n",
    "\n",
    "                    for k in d[mode].keys():\n",
    "                        d_i[mode][k] = d[mode][k][i,...]\n",
    "                        d_i[mode][k] = d_i[mode][k][np.newaxis,...] \n",
    "                        # print(k,d[mode][k].shape)\n",
    "                        # print(k,d_i[mode][k].shape)\n",
    "\n",
    "                    file_i = file.replace('.pkl','') + '_' + str(i) + '.pkl'\n",
    "                    file_i = os.path.join(target_folder,file_i)\n",
    "                    file_i = os.path.join(\n",
    "                        os.getcwd(),\n",
    "                        file_i\n",
    "                    )\n",
    "                    with open(file_i,\"wb\") as filehandler:\n",
    "                        cPickle.dump(d_i,filehandler,protocol=pickle.HIGHEST_PROTOCOL)\n",
    "\n",
    "        except:\n",
    "            print(file,fileout)\n",
    "        \n",
    "\n"
   ]
  },
  {
   "cell_type": "code",
   "execution_count": null,
   "metadata": {},
   "outputs": [],
   "source": []
  }
 ],
 "metadata": {
  "kernelspec": {
   "display_name": "pdearena",
   "language": "python",
   "name": "python3"
  },
  "language_info": {
   "codemirror_mode": {
    "name": "ipython",
    "version": 3
   },
   "file_extension": ".py",
   "mimetype": "text/x-python",
   "name": "python",
   "nbconvert_exporter": "python",
   "pygments_lexer": "ipython3",
   "version": "3.9.7"
  }
 },
 "nbformat": 4,
 "nbformat_minor": 2
}
